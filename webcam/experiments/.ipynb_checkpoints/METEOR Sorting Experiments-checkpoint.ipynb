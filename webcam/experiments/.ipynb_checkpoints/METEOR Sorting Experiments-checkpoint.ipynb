{
 "cells": [
  {
   "cell_type": "code",
   "execution_count": 24,
   "metadata": {
    "collapsed": false,
    "deletable": true,
    "editable": true
   },
   "outputs": [],
   "source": [
    "import csv\n",
    "import numpy as np\n",
    "import matplotlib.pyplot as plt\n",
    "\n",
    "from matplotlib.backends.backend_pdf import PdfPages"
   ]
  },
  {
   "cell_type": "code",
   "execution_count": 7,
   "metadata": {
    "collapsed": false,
    "deletable": true,
    "editable": true
   },
   "outputs": [
    {
     "name": "stdout",
     "output_type": "stream",
     "text": [
      "Images: 120, Queries: 60, Accuracy: 63.333333\n",
      "Time: Average 3.489048, Std. Dev: 0.034650\n",
      "\n",
      "Rank 1 Dist\n"
     ]
    },
    {
     "data": {
      "image/png": "[encoded data removed]",
      "text/plain": [
       "<matplotlib.figure.Figure at 0x7fd914680b10>"
      ]
     },
     "metadata": {},
     "output_type": "display_data"
    },
    {
     "name": "stdout",
     "output_type": "stream",
     "text": [
      "Rank 2 Dist\n"
     ]
    },
    {
     "data": {
      "image/png": "[encoded data removed]",
      "text/plain": [
       "<matplotlib.figure.Figure at 0x7fd9145ee590>"
      ]
     },
     "metadata": {},
     "output_type": "display_data"
    },
    {
     "name": "stdout",
     "output_type": "stream",
     "text": [
      "Rank 3 Dist\n"
     ]
    },
    {
     "data": {
      "image/png": "[encoded data removed]",
      "text/plain": [
       "<matplotlib.figure.Figure at 0x7fd914649910>"
      ]
     },
     "metadata": {},
     "output_type": "display_data"
    },
    {
     "name": "stdout",
     "output_type": "stream",
     "text": [
      "[120, 63.333333, 3.4890480666666668, 0.034649733566011087] \n",
      "\n"
     ]
    }
   ],
   "source": [
    "# Load Data\n",
    "raw = \"\"\"120 Random Images & 60 Random Queries. METEOR sorting. 10% search limit\n",
    "3.473232\t149\t95\t92\n",
    "3.488796\t29\t37\t17\n",
    "3.464645\t49\t140\t107\n",
    "3.569091\t59\t18\t17\n",
    "3.506211\t16\t23\t152\n",
    "3.491065\t14\t69\t70\n",
    "3.481994\t18\t1\t17\n",
    "3.473987\t2\t1\t51\n",
    "3.475371\t2\t49\t24\n",
    "3.465912\t30\t72\t44\n",
    "3.532538\t21\t6\t31\n",
    "3.483587\t97\t70\t23\n",
    "3.492108\t2\t22\t25\n",
    "3.528461\t109\t110\t1\n",
    "3.486562\t9\t1\t3\n",
    "3.493427\t2\t1\t23\n",
    "3.462699\t6\t33\t148\n",
    "3.468215\t4\t6\t111\n",
    "3.498672\t37\t5\t36\n",
    "3.458681\t13\t1\t47\n",
    "3.503418\t12\t52\t13\n",
    "3.467774\t4\t21\t6\n",
    "3.488490\t8\t4\t102\n",
    "3.471626\t126\t63\t103\n",
    "3.450615\t2\t132\t6\n",
    "3.462174\t40\t6\t53\n",
    "3.472346\t25\t26\t38\n",
    "3.465353\t1\t35\t75\n",
    "3.527359\t23\t51\t2\n",
    "3.514785\t126\t18\t56\n",
    "3.606320\t74\t4\t67\n",
    "3.620974\t18\t6\t3\n",
    "3.455849\t2\t1\t67\n",
    "3.500182\t2\t111\t105\n",
    "3.455182\t6\t1\t2\n",
    "3.489793\t9\t5\t18\n",
    "3.487848\t169\t80\t25\n",
    "3.492775\t8\t2\t5\n",
    "3.497781\t95\t4\t53\n",
    "3.494832\t17\t2\t33\n",
    "3.460715\t148\t143\t114\n",
    "3.511288\t1\t4\t3\n",
    "3.486975\t1\t23\t6\n",
    "3.520831\t4\t2\t5\n",
    "3.460643\t28\t31\t84\n",
    "3.464471\t109\t33\t49\n",
    "3.497304\t2\t1\t80\n",
    "3.478731\t24\t7\t5\n",
    "3.499845\t90\t85\t42\n",
    "3.454975\t14\t8\t26\n",
    "3.477120\t52\t82\t116\n",
    "3.450937\t22\t1\t2\n",
    "3.446540\t3\t2\t11\n",
    "3.526060\t99\t97\t121\n",
    "3.552789\t18\t89\t21\n",
    "3.462474\t1\t8\t139\n",
    "3.451369\t12\t37\t2\n",
    "3.498260\t75\t61\t20\n",
    "3.450791\t145\t80\t10\n",
    "3.470036\t12\t32\t16\n",
    "Time: --- 931.409090042 seconds ---\n",
    "Rank Dist: Rank1 - 24, Rank2 - 7, Rank3 - 7\n",
    "Success Rate: 38/60 = 63.333333\"\"\"\n",
    "\n",
    "num_imgs = int(raw.rsplit(' Random Images', 1)[0])\n",
    "num_queries = int((raw.rsplit('Random Images & ', 1)[1]).rsplit(' Random Queries', 1)[0])\n",
    "accuracy = float(raw.split('Success Rate:', 1)[1].split(\"= \")[1])\n",
    "\n",
    "times = []\n",
    "dist = []\n",
    "data = raw.split('\\n', 1)[1].split('Time')[0].split('\\n')\n",
    "for line in data:\n",
    "    if line:\n",
    "        times.append(float(line.split('\\t')[0]))\n",
    "        dist.append([int(line.split('\\t')[1]), int(line.split('\\t')[2]), int(line.split('\\t')[3])])\n",
    "\n",
    "mu = np.mean(times)\n",
    "sigma = np.std(times)\n",
    "        \n",
    "result = [num_imgs, accuracy, mu, sigma]\n",
    "        \n",
    "# print results\n",
    "print \"Images: %d, Queries: %d, Accuracy: %f\" % (num_imgs, num_queries, accuracy)\n",
    "print \"Time: Average %f, Std. Dev: %f\" % (mu, sigma)\n",
    "\n",
    "# histograms\n",
    "print \"\\nRank 1 Dist\"\n",
    "hist, bins = np.histogram([row[0] for row in dist], bins=10)\n",
    "width = 0.7 * (bins[1] - bins[0])\n",
    "center = (bins[:-1] + bins[1:]) / 2\n",
    "plt.bar(center, hist, align='center', width=width)\n",
    "plt.show()\n",
    "\n",
    "print \"Rank 2 Dist\"\n",
    "hist, bins = np.histogram([row[1] for row in dist], bins=10)\n",
    "width = 0.7 * (bins[1] - bins[0])\n",
    "center = (bins[:-1] + bins[1:]) / 2\n",
    "plt.bar(center, hist, align='center', width=width)\n",
    "plt.show()\n",
    "\n",
    "print \"Rank 3 Dist\"\n",
    "hist, bins = np.histogram([row[2] for row in dist], bins=10)\n",
    "width = 0.7 * (bins[1] - bins[0])\n",
    "center = (bins[:-1] + bins[1:]) / 2\n",
    "plt.bar(center, hist, align='center', width=width)\n",
    "plt.show()\n",
    "\n",
    "print result, \"\\n\""
   ]
  },
  {
   "cell_type": "code",
   "execution_count": 28,
   "metadata": {
    "collapsed": false,
    "deletable": true,
    "editable": true
   },
   "outputs": [
    {
     "data": {
      "image/png": "[encoded data removed]",
      "text/plain": [
       "<matplotlib.figure.Figure at 0x7fd8fc98a4d0>"
      ]
     },
     "metadata": {},
     "output_type": "display_data"
    },
    {
     "data": {
      "image/png": "[encoded data removed]",
      "text/plain": [
       "<matplotlib.figure.Figure at 0x7fd8fc9ac810>"
      ]
     },
     "metadata": {},
     "output_type": "display_data"
    }
   ],
   "source": [
    "no_sort_1 = [[40, 90.0, 12.43695565, 0.2236890610390404],\n",
    "             [60, 70.0, 18.003298466666667, 0.54139572991363294],\n",
    "             [80, 67.5, 29.288097474999994, 5.8262706883079236],\n",
    "             [100, 82.0, 33.279011199999999, 6.7927867174812722],\n",
    "             [120, 65.0, 46.9418516, 5.9323477714808046]]\n",
    "\n",
    "no_sort_2 = [[40, 95.0, 11.266132549999998, 0.21456488954357725],\n",
    "             [60, 80.0, 17.664869133333333, 0.40777398929535569],\n",
    "             [80, 80.0, 23.812450725000001, 0.14331715665439129],\n",
    "             [100, 78.0, 30.302401160000002, 0.71089064962784121] ,\n",
    "             [120, 71.666667, 35.378438150000001, 1.544404678486879]]\n",
    "\n",
    "no_sort_3 = [[40, 90.0, 12.0912343, 0.10163451958419441],\n",
    "             [60, 76.666667, 16.3855994, 0.19062442905122803],\n",
    "             [80, 77.5, 22.730228050000001, 0.32206811152789933],\n",
    "             [100, 80.0, 32.472250080000002, 4.7126935132342052] ,\n",
    "             [120, 78.333333, 47.292656383333338, 4.76458303962663]]\n",
    "\n",
    "sort_1 =    [[40, 90.0, 1.24945105, 0.051456945926157543],\n",
    "             [60, 73.333333, 1.7400157333333335, 0.10565327066965581],\n",
    "             [80, 70.0, 2.5889492250000004, 0.10114519361776107],\n",
    "             [100, 62.0, 2.9347130599999995, 0.09055039221790484],\n",
    "             [120, 70.0, 3.4569699166666665, 0.044333443247467123]]\n",
    "\n",
    "sort_2 =    [[40, 90.0, 1.21984205, 0.021426384595808513],\n",
    "             [60, 80.0, 1.633094966666667, 0.034381576634861979],\n",
    "             [80, 82.5, 2.3968701250000004, 0.028141688130945041],\n",
    "             [100, 66.0, 2.9115846199999997, 0.043035673862455097],\n",
    "             [120, 63.333333, 3.5814615166666663, 0.088999492297894903]]\n",
    "\n",
    "sort_3 =    [[40, 85.0, 1.22076695, 0.013990543836731307],\n",
    "             [60, 83.333333, 1.7948007666666672, 0.027231410990108871],\n",
    "             [80, 72.5, 2.29737955, 0.065414613860340864],\n",
    "             [100, 66.0, 2.8522923600000007, 0.038868087680131655],\n",
    "             [120, 63.333333, 3.5814615166666663, 0.088999492297894903]]\n",
    "\n",
    "num_size = 5\n",
    "\n",
    "no_sort_acc_avg = np.zeros(num_size)\n",
    "no_sort_acc_std = np.zeros(num_size)\n",
    "no_sort_time_avg = np.zeros(num_size)\n",
    "no_sort_time_std = np.zeros(num_size)\n",
    "\n",
    "sort_acc_avg = np.zeros(num_size)\n",
    "sort_acc_std = np.zeros(num_size)\n",
    "sort_time_avg = np.zeros(num_size)\n",
    "sort_time_std = np.zeros(num_size)\n",
    "\n",
    "for i in range(num_size):\n",
    "    no_sort_acc_avg[i] = np.mean([no_sort_1[i][1], no_sort_2[i][1],  no_sort_3[i][1]])\n",
    "    no_sort_acc_std[i] = np.std([no_sort_1[i][1], no_sort_2[i][1],  no_sort_3[i][1]])\n",
    "    no_sort_time_avg[i] = np.mean([no_sort_1[i][2], no_sort_2[i][2],  no_sort_3[i][2]])\n",
    "    no_sort_time_std[i] = np.std([no_sort_1[i][2], no_sort_2[i][2],  no_sort_3[i][2]])\n",
    "\n",
    "    sort_acc_avg[i] = np.mean([sort_1[i][1], sort_2[i][1], sort_3[i][1]])\n",
    "    sort_acc_std[i] = np.std([sort_1[i][1], sort_2[i][1], sort_3[i][1]])\n",
    "    sort_time_avg[i] = np.mean([sort_1[i][2], sort_2[i][2], sort_3[i][2]])\n",
    "    sort_time_std[i] = np.std([sort_1[i][2], sort_2[i][2], sort_3[i][2]])\n",
    "    \n",
    "no_sort_1_imgs = [row[0] for row in no_sort_1]\n",
    "sort_1_imgs = [row[0] for row in sort_1]\n",
    "\n",
    "no_sort_1_accuracy = [row[1] for row in no_sort_1]\n",
    "sort_1_accuracy = [row[1] for row in sort_1]\n",
    "fig = plt.figure()\n",
    "ax = fig.add_subplot(111)\n",
    "ax.errorbar(no_sort_1_imgs, no_sort_acc_avg, yerr=no_sort_acc_std, fmt='go', label='Brute Force')\n",
    "ax.errorbar(no_sort_1_imgs, sort_acc_avg, yerr=sort_acc_std, fmt='ro', label='METEOR Sorting')\n",
    "# plt.plot(no_sort_1_imgs, no_sort_1_accuracy, 'ro', sort_1_imgs, sort_1_accuracy, 'go')\n",
    "ax.axis([30, 140, 0, 100])\n",
    "ax.set_xlabel(\"Number of Images (N)\")\n",
    "ax.set_ylabel(\"Query Accuracy (%)\")\n",
    "plt.legend(bbox_to_anchor=(0.72, 1.15))\n",
    "# plt.show()\n",
    "\n",
    "pp = PdfPages('acc.pdf')\n",
    "pp.savefig(fig)\n",
    "pp.close()\n",
    "\n",
    "no_sort_1_time = [row[2] for row in no_sort_1]\n",
    "sort_1_time = [row[2] for row in sort_1]\n",
    "fig = plt.figure()\n",
    "ax = fig.add_subplot(111)\n",
    "ax.errorbar(no_sort_1_imgs, no_sort_time_avg, yerr=no_sort_time_std, fmt='gs', label='Brute Force')\n",
    "ax.errorbar(no_sort_1_imgs, sort_time_avg, yerr=sort_time_std, fmt='rs', label='METEOR Sorting')\n",
    "# plt.plot(no_sort_1_imgs, no_sort_1_time, 'rs', sort_1_imgs, sort_1_time, 'gs')\n",
    "ax.axis([30, 140, 0, 50])\n",
    "ax.set_xlabel(\"Number of Images (N)\")\n",
    "ax.set_ylabel(\"Average Query Time (s)\")\n",
    "plt.legend(bbox_to_anchor=(0.72, 1.15))\n",
    "plt.show()\n",
    "\n",
    "\n"
   ]
  }
 ],
 "metadata": {
  "kernelspec": {
   "display_name": "Python 2",
   "language": "python",
   "name": "python2"
  },
  "language_info": {
   "codemirror_mode": {
    "name": "ipython",
    "version": 2
   },
   "file_extension": ".py",
   "mimetype": "text/x-python",
   "name": "python",
   "nbconvert_exporter": "python",
   "pygments_lexer": "ipython2",
   "version": "2.7.6"
  }
 },
 "nbformat": 4,
 "nbformat_minor": 2
}
